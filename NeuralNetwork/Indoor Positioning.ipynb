{
 "cells": [
  {
   "cell_type": "markdown",
   "metadata": {},
   "source": [
    "# Indoor Positioning"
   ]
  },
  {
   "cell_type": "code",
   "execution_count": 1,
   "metadata": {},
   "outputs": [],
   "source": [
    "import tensorflow as tf\n",
    "from tensorflow import keras\n",
    "from tensorflow.keras import layers\n",
    "from keras import models\n",
    "from keras import layers\n",
    "import json\n",
    "import random\n",
    "import numpy as np\n",
    "from matplotlib import pyplot as plt"
   ]
  },
  {
   "cell_type": "markdown",
   "metadata": {},
   "source": [
    "## Load Data"
   ]
  },
  {
   "cell_type": "markdown",
   "metadata": {},
   "source": [
    "Copy local_records.json file to the same directory as this script, and then run:"
   ]
  },
  {
   "cell_type": "code",
   "execution_count": 2,
   "metadata": {},
   "outputs": [],
   "source": [
    "# load local_records.json data\n",
    "def load_data(file_name):\n",
    "    with open(file_name, 'r') as file:\n",
    "        data = file.read()\n",
    "    json_list = json.loads(data)\n",
    "    return json_list"
   ]
  },
  {
   "cell_type": "code",
   "execution_count": null,
   "metadata": {},
   "outputs": [],
   "source": [
    "json_list = load_data('new.json')"
   ]
  },
  {
   "cell_type": "markdown",
   "metadata": {},
   "source": [
    "## Split dataset"
   ]
  },
  {
   "cell_type": "markdown",
   "metadata": {},
   "source": [
    "The data is split into 80% training data, 20% testing data"
   ]
  },
  {
   "cell_type": "code",
   "execution_count": 5,
   "metadata": {
    "scrolled": true
   },
   "outputs": [],
   "source": [
    "# shuffle the list\n",
    "random.Random(7).shuffle(json_list)\n",
    "# split into train data and test data\n",
    "ratio_of_train_data = 0.8\n",
    "cut_i = int(ratio_of_train_data * len(json_list))\n",
    "train = json_list[:cut_i]\n",
    "test = json_list[cut_i:]"
   ]
  },
  {
   "cell_type": "code",
   "execution_count": 6,
   "metadata": {},
   "outputs": [
    {
     "name": "stdout",
     "output_type": "stream",
     "text": [
      "32431\n",
      "8108\n"
     ]
    }
   ],
   "source": [
    "print(len(train))\n",
    "print(len(test))"
   ]
  },
  {
   "cell_type": "markdown",
   "metadata": {},
   "source": [
    "## Extract features and lables"
   ]
  },
  {
   "cell_type": "markdown",
   "metadata": {},
   "source": [
    "feature: [RSSI of AP_1_2GHZ, RSSI of AP_1_5GHZ, RSSI of AP_2_2GHZ, RSSI of AP_2_5GHZ, RSSI of AP_3_2GHZ, RSSI of AP_3_5GHZ, RSSI of AP_4_2GHZ, RSSI of AP_4_5GHZ]\n",
    "\n",
    "label: [x , y]"
   ]
  },
  {
   "cell_type": "code",
   "execution_count": 4,
   "metadata": {},
   "outputs": [],
   "source": [
    "# extract features and lables from data\n",
    "index_map = {'SCSLAB_AP_1_2GHZ': 1, 'SCSLAB_AP_1_5GHZ': 2, 'SCSLAB_AP_2_2GHZ': 3,\\\n",
    "            'SCSLAB_AP_2_5GHZ': 4, 'SCSLAB_AP_3_2GHZ': 5, 'SCSLAB_AP_3_5GHZ': 6,\\\n",
    "            'SCSLAB_AP_4_2GHZ': 7, 'SCSLAB_AP_4_5GHZ': 8}\n",
    "\n",
    "def extract_feature_and_label(l):\n",
    "    feature_list = []\n",
    "    lable_list = []\n",
    "    for json_obj in l:\n",
    "        # extract lable\n",
    "        x = json_obj.get('ref_x')\n",
    "        y = json_obj.get('ref_y')\n",
    "        lable_list.append([x, y])\n",
    "        # extract feature\n",
    "        #feature = [0 for i in range(9)]\n",
    "        feature = [0 for i in range(8)]\n",
    "        #angle = json_obj.get('angle')\n",
    "        #feature[0] = angle\n",
    "        rssi_observations = json_obj.get('rssi_observations')\n",
    "        for observation in rssi_observations:\n",
    "            ssid = observation.get('SSID')\n",
    "            index = index_map[ssid]\n",
    "            feature[index - 1] = observation.get('RSSI')\n",
    "        feature_list.append(feature)\n",
    "    return np.array(feature_list, dtype='float64'), np.array(lable_list, dtype='float64')"
   ]
  },
  {
   "cell_type": "code",
   "execution_count": null,
   "metadata": {},
   "outputs": [],
   "source": [
    "train_data, train_labels = extract_feature_and_label(train)\n",
    "test_data, test_labels = extract_feature_and_label(test)"
   ]
  },
  {
   "cell_type": "markdown",
   "metadata": {},
   "source": [
    "## Normalize data"
   ]
  },
  {
   "cell_type": "code",
   "execution_count": 8,
   "metadata": {},
   "outputs": [],
   "source": [
    "max_rss = train_data.max(axis=0)\n",
    "min_rss = train_data.min(axis=0)\n",
    "\n",
    "train_data = (train_data - min_rss)/(max_rss - min_rss)\n",
    "test_data = (test_data - min_rss)/(max_rss - min_rss)"
   ]
  },
  {
   "cell_type": "code",
   "execution_count": 9,
   "metadata": {},
   "outputs": [
    {
     "data": {
      "text/plain": [
       "array([-34., -47., -33., -44., -27., -43., -13., -33.])"
      ]
     },
     "execution_count": 9,
     "metadata": {},
     "output_type": "execute_result"
    }
   ],
   "source": [
    "max_rss"
   ]
  },
  {
   "cell_type": "code",
   "execution_count": 10,
   "metadata": {},
   "outputs": [
    {
     "data": {
      "text/plain": [
       "array([-91., -97., -94., -97., -89., -95., -79., -94.])"
      ]
     },
     "execution_count": 10,
     "metadata": {},
     "output_type": "execute_result"
    }
   ],
   "source": [
    "min_rss"
   ]
  },
  {
   "cell_type": "code",
   "execution_count": 11,
   "metadata": {},
   "outputs": [
    {
     "data": {
      "text/plain": [
       "array([[0.77192982, 0.54      , 0.93442623, ..., 0.42307692, 0.53030303,\n",
       "        0.50819672],\n",
       "       [0.64912281, 0.42      , 0.75409836, ..., 0.28846154, 0.51515152,\n",
       "        0.47540984],\n",
       "       [0.75438596, 0.7       , 0.90163934, ..., 0.65384615, 0.56060606,\n",
       "        0.54098361],\n",
       "       ...,\n",
       "       [0.8245614 , 0.56      , 0.86885246, ..., 0.44230769, 0.54545455,\n",
       "        0.59016393],\n",
       "       [0.54385965, 0.62      , 0.70491803, ..., 0.82692308, 0.53030303,\n",
       "        0.68852459],\n",
       "       [0.77192982, 0.5       , 0.96721311, ..., 0.55769231, 0.71212121,\n",
       "        0.91803279]])"
      ]
     },
     "execution_count": 11,
     "metadata": {},
     "output_type": "execute_result"
    }
   ],
   "source": [
    "train_data"
   ]
  },
  {
   "cell_type": "markdown",
   "metadata": {},
   "source": [
    "## Build model"
   ]
  },
  {
   "cell_type": "markdown",
   "metadata": {},
   "source": [
    "Define Loss Function - Euclidean distance"
   ]
  },
  {
   "cell_type": "code",
   "execution_count": 10,
   "metadata": {},
   "outputs": [],
   "source": [
    "def euclidean_distance(y_true, y_pred):\n",
    "    return tf.reduce_mean(tf.norm(y_true - y_pred, axis=1, ord='euclidean'))"
   ]
  },
  {
   "cell_type": "markdown",
   "metadata": {},
   "source": [
    "Define Model"
   ]
  },
  {
   "cell_type": "code",
   "execution_count": 8,
   "metadata": {},
   "outputs": [],
   "source": [
    "def build_model(shape):\n",
    "    model = models.Sequential()\n",
    "    model.add(layers.Dense(256, activation='relu',input_shape=(shape,)))\n",
    "    model.add(layers.Dense(128, activation='relu'))\n",
    "    model.add(layers.Dense(64, activation='relu'))\n",
    "    model.add(layers.Dense(32, activation='relu'))\n",
    "    model.add(layers.Dense(2))\n",
    "    model.compile(optimizer='adam', loss=euclidean_distance, metrics=['mse'])\n",
    "    return model"
   ]
  },
  {
   "cell_type": "code",
   "execution_count": 14,
   "metadata": {},
   "outputs": [
    {
     "name": "stdout",
     "output_type": "stream",
     "text": [
      "254/254 [==============================] - 0s 2ms/step - loss: 0.6127 - mse: 0.5055\n"
     ]
    }
   ],
   "source": [
    "model = build_model(train_data.shape[1])\n",
    "history = model.fit(train_data, train_labels, epochs=50, batch_size=20, verbose=0, validation_split=0.2)\n",
    "loss, mse = model.evaluate(test_data, test_labels)"
   ]
  },
  {
   "cell_type": "code",
   "execution_count": 15,
   "metadata": {},
   "outputs": [
    {
     "data": {
      "text/plain": [
       "0.612688422203064"
      ]
     },
     "execution_count": 15,
     "metadata": {},
     "output_type": "execute_result"
    }
   ],
   "source": [
    "loss"
   ]
  },
  {
   "cell_type": "code",
   "execution_count": 16,
   "metadata": {},
   "outputs": [
    {
     "data": {
      "text/plain": [
       "0.5054519772529602"
      ]
     },
     "execution_count": 16,
     "metadata": {},
     "output_type": "execute_result"
    }
   ],
   "source": [
    "mse"
   ]
  },
  {
   "cell_type": "code",
   "execution_count": 17,
   "metadata": {},
   "outputs": [
    {
     "data": {
      "image/png": "[encoded data removed]",
      "text/plain": [
       "<Figure size 432x288 with 1 Axes>"
      ]
     },
     "metadata": {
      "needs_background": "light"
     },
     "output_type": "display_data"
    }
   ],
   "source": [
    "plt.plot(history.history['loss'])\n",
    "plt.plot(history.history['val_loss'])\n",
    "plt.title('model loss')\n",
    "plt.ylabel('loss')\n",
    "plt.xlabel('epoch')\n",
    "\n",
    "plt.legend(['train', 'val'], loc='upper left')\n",
    "plt.show()"
   ]
  },
  {
   "cell_type": "markdown",
   "metadata": {},
   "source": [
    "## Download model"
   ]
  },
  {
   "cell_type": "code",
   "execution_count": null,
   "metadata": {},
   "outputs": [],
   "source": [
    "converter = tf.lite.TFLiteConverter.from_keras_model(model)\n",
    "tflite_model = converter.convert()"
   ]
  },
  {
   "cell_type": "code",
   "execution_count": null,
   "metadata": {},
   "outputs": [],
   "source": [
    "with open('north_model.tflite', 'wb') as f:\n",
    "    f.write(tflite_model)"
   ]
  },
  {
   "cell_type": "markdown",
   "metadata": {},
   "source": [
    "## 10-fold Cross Validation"
   ]
  },
  {
   "cell_type": "code",
   "execution_count": 12,
   "metadata": {},
   "outputs": [
    {
     "name": "stdout",
     "output_type": "stream",
     "text": [
      "Processing fold 1\n",
      "127/127 [==============================] - 0s 2ms/step - loss: 3.3909 - mse: 7.2065\n",
      "Processing fold 2\n",
      "127/127 [==============================] - 0s 2ms/step - loss: 3.6394 - mse: 8.6509\n",
      "Processing fold 3\n",
      "127/127 [==============================] - 0s 2ms/step - loss: 3.0773 - mse: 5.4369\n",
      "Processing fold 4\n",
      "127/127 [==============================] - 0s 2ms/step - loss: 2.8203 - mse: 4.7163\n",
      "Processing fold 5\n",
      "127/127 [==============================] - 0s 2ms/step - loss: 4.0549 - mse: 11.4448\n",
      "Processing fold 6\n",
      "127/127 [==============================] - 0s 2ms/step - loss: 3.1610 - mse: 6.3962\n",
      "Processing fold 7\n",
      "127/127 [==============================] - 0s 2ms/step - loss: 2.8255 - mse: 5.0205\n",
      "Processing fold 8\n",
      "127/127 [==============================] - 0s 2ms/step - loss: 3.2624 - mse: 6.1206\n",
      "Processing fold 9\n",
      "127/127 [==============================] - 0s 2ms/step - loss: 4.0996 - mse: 10.8787\n",
      "Processing fold 10\n",
      "127/127 [==============================] - 0s 2ms/step - loss: 2.9959 - mse: 5.6109\n"
     ]
    }
   ],
   "source": [
    "# number of samples in one fold\n",
    "fold_samples_num = len(json_list) // 10\n",
    "losses_list = []\n",
    "\n",
    "for i in range(10):\n",
    "    print('Processing fold {}'.format(i + 1))\n",
    "    \n",
    "    val_start = i * fold_samples_num\n",
    "    val_end = (i + 1) * fold_samples_num\n",
    "    # prepare validation data\n",
    "    validation_dataset = json_list[val_start : val_end]\n",
    "    validation_data, validation_label = extract_feature_and_label(validation_dataset)\n",
    "    \n",
    "    # prepare training data\n",
    "    partial_training_dataset = np.concatenate([json_list[:val_start], json_list[val_end:]], axis=0)\n",
    "    training_data, training_label = extract_feature_and_label(partial_training_dataset)\n",
    "    \n",
    "    # build and train model\n",
    "    model = build_model(training_data.shape[1])\n",
    "    model.fit(training_data, training_label, epochs=50, batch_size=20, verbose=0)\n",
    "    loss, mse = model.evaluate(validation_data, validation_label)\n",
    "    losses_list.append(loss)"
   ]
  },
  {
   "cell_type": "code",
   "execution_count": null,
   "metadata": {},
   "outputs": [],
   "source": [
    "print(losses_list)\n",
    "print(np.mean(losses_list))"
   ]
  }
 ],
 "metadata": {
  "kernelspec": {
   "display_name": "Python 3",
   "language": "python",
   "name": "python3"
  },
  "language_info": {
   "codemirror_mode": {
    "name": "ipython",
    "version": 3
   },
   "file_extension": ".py",
   "mimetype": "text/x-python",
   "name": "python",
   "nbconvert_exporter": "python",
   "pygments_lexer": "ipython3",
   "version": "3.8.5"
  },
  "vscode": {
   "interpreter": {
    "hash": "b1b5f54e4835e6e96295ff4f9b2e3106cd88f1d758fc4bd43ae981ee911efc60"
   }
  }
 },
 "nbformat": 4,
 "nbformat_minor": 4
}
